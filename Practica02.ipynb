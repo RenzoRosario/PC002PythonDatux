{
 "cells": [
  {
   "cell_type": "markdown",
   "metadata": {},
   "source": [
    "<h1><u>Estructuras Iterativas:</u></h1>"
   ]
  },
  {
   "cell_type": "markdown",
   "metadata": {},
   "source": [
    "<u><b>Problema 1:</u></b> <br>\n",
    "Escribe un programa en Python para encontrar los números que son divisibles por 7 y múltiplos de 5, en el rango de 1500 y 2700 (ambos incluidos).\n"
   ]
  },
  {
   "cell_type": "code",
   "execution_count": 7,
   "metadata": {},
   "outputs": [
    {
     "name": "stdout",
     "output_type": "stream",
     "text": [
      "1505\n",
      "1540\n",
      "1575\n",
      "1610\n",
      "1645\n",
      "1680\n",
      "1715\n",
      "1750\n",
      "1785\n",
      "1820\n",
      "1855\n",
      "1890\n",
      "1925\n",
      "1960\n",
      "1995\n",
      "2030\n",
      "2065\n",
      "2100\n",
      "2135\n",
      "2170\n",
      "2205\n",
      "2240\n",
      "2275\n",
      "2310\n",
      "2345\n",
      "2380\n",
      "2415\n",
      "2450\n",
      "2485\n",
      "2520\n",
      "2555\n",
      "2590\n",
      "2625\n",
      "2660\n",
      "2695\n"
     ]
    }
   ],
   "source": [
    "# Programa para encontrar los números divisibles por 7 y múltiplos de 5, en el rango de 1500 y 2700 (ambos incluidos)\n",
    "\n",
    "# Declaramos las variables\n",
    "inicio = 1500\n",
    "fin = 2700\n",
    "\n",
    "# Iteramos por todos los números del rango\n",
    "for numero in range(inicio, fin + 1):\n",
    "    # Comprobamos si el número es divisible por 7\n",
    "    if numero % 7 == 0:\n",
    "        # Comprobamos si el número es múltiplo de 5\n",
    "        if numero % 5 == 0:\n",
    "            # Imprimimos el número\n",
    "            print(numero)"
   ]
  },
  {
   "cell_type": "markdown",
   "metadata": {},
   "source": [
    "<u><b>Problema 2:</u></b> <br>\n",
    "Escriba un programa en Python para construir el siguiente patrón.\n",
    "<br>*\n",
    "<br>* *\n",
    "<br>* * *\n",
    "<br>* * * *\n",
    "<br>* * * * *\n",
    "<br>* * * *\n",
    "<br>* * *\n",
    "<br>* *\n",
    "<br>*"
   ]
  },
  {
   "cell_type": "code",
   "execution_count": 25,
   "metadata": {},
   "outputs": [
    {
     "name": "stdout",
     "output_type": "stream",
     "text": [
      "* \n",
      "* * \n",
      "* * * \n",
      "* * * * \n",
      "* * * * * \n",
      "* * * * \n",
      "* * * \n",
      "* * \n",
      "* \n"
     ]
    }
   ],
   "source": [
    "#Crear un patrón de Asteriscos usando un ciclo for anidado\n",
    "\n",
    "# Declaramos las variables\n",
    "n = 5\n",
    "\n",
    "# Iteramos por las filas en incremento\n",
    "for i in range(1,n + 1):\n",
    "    for j in range(i):\n",
    "        print('* ', end='')\n",
    "    print( )\n",
    "\n",
    "# Iteramos por las filas en decremento\n",
    "for i in range(n-1, 0, -1):\n",
    "    for j in range(i):\n",
    "        print('* ', end='')\n",
    "    print( )"
   ]
  },
  {
   "cell_type": "markdown",
   "metadata": {},
   "source": [
    "<u><b>Problema 3:</u></b> <br>\n",
    "Por medio de un bucle While genere un código que permita el ingreso de números por teclado. El\n",
    "ingreso de los números debe ser permitido hasta que el usuario decida ya no ingresar nuevos números.\n",
    "Con dichos números, su programa debe evaluar cada uno de estos números e indicar la cantidad de\n",
    "números pares e impares.\n",
    "Ejemplo:<br>\n",
    "“Desea ingresar un número?”: SI<br>\n",
    "“Ingrese el número:” 5<br>\n",
    "“¿Desea ingresar un número?”: SI\n",
    "“Ingrese el número: ” 7<br>\n",
    "……<br>\n",
    "“Desea ingresar un número?”: NO<br>\n",
    "Números ingresados: [ 5,7, 6, 7, 8, 9, 1, 2, 3, 4]<br>\n",
    "Cantidad de números pares: 5<br>\n",
    "Cantidad de números impares: 4<br>\n",
    "Nota:<br>\n",
    "- Quizás a manera de ayuda el uso de una lista le sea de utilidad.\n",
    "- El empleo de break sobre condiciones while también le serán de utilidad."
   ]
  },
  {
   "cell_type": "code",
   "execution_count": 24,
   "metadata": {},
   "outputs": [
    {
     "name": "stdout",
     "output_type": "stream",
     "text": [
      "Números ingresados: [4, 111, 9, 142]\n",
      "Cantidad de números pares: 2\n",
      "Cantidad de números impares: 2\n"
     ]
    }
   ],
   "source": [
    "# Programa para contar números pares e impares\n",
    "\n",
    "# Declaramos las variables\n",
    "numeros_pares = 0\n",
    "numeros_impares = 0\n",
    "numeros_ingresados = []\n",
    "\n",
    "# Bucle principal\n",
    "while True:\n",
    "    # Solicitamos al usuario si desea ingresar un número\n",
    "    desea_ingresar = input(\"¿Desea ingresar un número? (SI/NO): \")\n",
    "\n",
    "    # Si el usuario responde NO, finalizamos el bucle\n",
    "    if desea_ingresar.upper() == \"NO\":\n",
    "        break\n",
    "\n",
    "    # Solicitamos el número al usuario\n",
    "    numero = int(input(\"Ingrese el número: \"))\n",
    "\n",
    "    # Agregamos el número a la lista de números ingresados\n",
    "    numeros_ingresados.append(numero)\n",
    "\n",
    "    # Si el número es par, incrementamos el contador de números pares\n",
    "    if numero % 2 == 0:\n",
    "        numeros_pares += 1\n",
    "\n",
    "    # Si el número es impar, incrementamos el contador de números impares\n",
    "    else:\n",
    "        numeros_impares += 1\n",
    "\n",
    "# Imprimimos los resultados\n",
    "print(\"Números ingresados:\", numeros_ingresados)\n",
    "print(\"Cantidad de números pares:\", numeros_pares)\n",
    "print(\"Cantidad de números impares:\", numeros_impares)"
   ]
  },
  {
   "cell_type": "markdown",
   "metadata": {},
   "source": [
    "<u><b>Problema 4:</u></b> <br>\n",
    "Imaginemos que lo han contratado para un colegio donde se desea realizar un sistema por el cual se pueda generar un listado de “n” alumnos y 3 calificaciones que corresponden a alguna de sus materias.\n",
    "Puede usar el siguiente esquema a manera de ejemplo <br>\n",
    "{<br>\n",
    "Alumno: Juan,<br>\n",
    "Notas: [10, 12, 15]<br>\n",
    "}<br>\n",
    "Una vez completado el ingreso de los datos, su programa debe mostrar en pantalla el listado completo de los alumnos.<br>\n",
    "Nota:<br>\n",
    "- El uso de listas con diccionarios le será de utilidad.<br>"
   ]
  },
  {
   "cell_type": "code",
   "execution_count": null,
   "metadata": {},
   "outputs": [],
   "source": [
    "# Programa para generar un listado de alumnos y sus calificaciones\n",
    "\n",
    "# Declaramos las variables\n",
    "alumnos = []\n",
    "\n",
    "# Bucle principal\n",
    "while True:\n",
    "    # Solicitamos al usuario el nombre del alumno\n",
    "    nombre_alumno = input(\"Ingrese el nombre del alumno: \")\n",
    "\n",
    "    # Si el usuario ingresa la cadena vacía, finalizamos el bucle\n",
    "    if nombre_alumno == \"\":\n",
    "        break\n",
    "\n",
    "    # Solicitamos al usuario las calificaciones del alumno\n",
    "    calificaciones = []\n",
    "    for i in range(3):\n",
    "        calificacion = int(input(\"Ingrese la calificación \" + str(i + 1) + \": \"))\n",
    "        calificaciones.append(calificacion)\n",
    "\n",
    "    # Creamos un diccionario con los datos del alumno\n",
    "    alumno = {\"Alumno\": nombre_alumno, \"Notas\": calificaciones}\n",
    "\n",
    "    # Agregamos el diccionario a la lista de alumnos\n",
    "    alumnos.append(alumno)\n",
    "\n",
    "# Imprimimos el listado de alumnos\n",
    "for alumno in alumnos:\n",
    "    print(\"Alumno:\", alumno[\"Alumno\"], \"Notas:\", alumno[\"Notas\"])\n",
    "\n",
    "# Calculamos el promedio de cada alumno\n",
    "for alumno in alumnos:\n",
    "    promedio = sum(alumno[\"Notas\"]) / len(alumno[\"Notas\"])\n",
    "    alumno[\"Promedio\"] = promedio\n",
    "\n",
    "# Imprimimos el listado de alumnos con el promedio\n",
    "for alumno in alumnos:\n",
    "    print(\"Alumno:\", alumno[\"Alumno\"], \"Notas:\", alumno[\"Notas\"], \"Promedio:\", alumno[\"Promedio\"])\n"
   ]
  },
  {
   "cell_type": "markdown",
   "metadata": {},
   "source": [
    "<h1><u>Funciones:</u></h1>"
   ]
  },
  {
   "cell_type": "markdown",
   "metadata": {},
   "source": [
    "<u><b>Problema 5:</u></b> <br>\n",
    "Genere una función que tenga como parámetros el ingreso de un número entero y un dígito.<br>\n",
    "Verifique la cantidad de veces que se usa dicho número en el dígito solicitado.<br>\n",
    "\n",
    "<b>Ejemplo:<br></b>\n",
    "\n",
    "Número ingresado: 15789000 y Dígito: 0<br>\n",
    "Cantidad de veces 0 en el número: 4<br>\n",
    "\n",
    "Nota: Para resolver este problema, algunos tipos de datos dentro de python contemplan un método count.<br>"
   ]
  },
  {
   "cell_type": "code",
   "execution_count": 30,
   "metadata": {},
   "outputs": [
    {
     "name": "stdout",
     "output_type": "stream",
     "text": [
      "Número ingresado: 1010101 y Dígito: 0\n",
      "Cantidad de veces 0 en el número: 3\n"
     ]
    }
   ],
   "source": [
    "def contar_digitos(numero, digito):\n",
    "    # Convertimos el número a cadena para poder utilizar el método count\n",
    "    numero_str = str(numero)\n",
    "    \n",
    "    # Contamos la cantidad de veces que aparece el dígito en el número\n",
    "    cantidad = numero_str.count(str(digito))\n",
    "    \n",
    "    # Devolvemos el resultado\n",
    "    return cantidad\n",
    "\n",
    "# Ejemplo de uso\n",
    "numero_ingresado = 1010101\n",
    "digito_solicitado = 0\n",
    "\n",
    "cantidad_veces = contar_digitos(numero_ingresado, digito_solicitado)\n",
    "print(f\"Número ingresado: {numero_ingresado} y Dígito: {digito_solicitado}\")\n",
    "print(f\"Cantidad de veces {digito_solicitado} en el número: {cantidad_veces}\")"
   ]
  },
  {
   "cell_type": "markdown",
   "metadata": {},
   "source": [
    "<u><b>Problema 6:</u></b> <br>\n",
    "Escriba un programa en Python para obtener la serie de Fibonacci entre 0 y 50.<br>\n",
    "Nota: La secuencia de Fibonacci es la serie de números:<br>\n",
    "0, 1, 1, 2, 3, 5, 8, 13, 21,. ...<br>\n",
    "Cada número siguiente se obtiene sumando los dos números anteriores.<br>"
   ]
  },
  {
   "cell_type": "code",
   "execution_count": 2,
   "metadata": {},
   "outputs": [
    {
     "name": "stdout",
     "output_type": "stream",
     "text": [
      "[1, 1, 2, 3, 5, 8, 13, 21, 34]\n"
     ]
    }
   ],
   "source": [
    "def fibonacci_hasta_limite(limite):\n",
    "    \"\"\"\n",
    "    Función que devuelve la serie de Fibonacci hasta el número que sumando el anterior sea menor o igual a limite.\n",
    "\n",
    "    Args:\n",
    "        limite: Número límite hasta el que se quiere obtener la serie de Fibonacci.\n",
    "\n",
    "    Returns:\n",
    "        Lista con los números de la serie de Fibonacci hasta el número limite.\n",
    "    \"\"\"\n",
    "\n",
    "    a, b = 0, 1\n",
    "    lista = []\n",
    "    while b <= limite:\n",
    "        lista.append(b)\n",
    "        a, b = b, a + b\n",
    "    return lista\n",
    "\n",
    "\n",
    "print(fibonacci_hasta_limite(50))"
   ]
  },
  {
   "cell_type": "markdown",
   "metadata": {},
   "source": [
    "<u><b>Problema 7:</u></b> <br>\n",
    "Escriba una función de Python que tome un número como parámetro y verifique que el número sea primo o no."
   ]
  },
  {
   "cell_type": "code",
   "execution_count": 34,
   "metadata": {},
   "outputs": [
    {
     "name": "stdout",
     "output_type": "stream",
     "text": [
      "True\n"
     ]
    }
   ],
   "source": [
    "def es_primo(numero):\n",
    "    \"\"\"\n",
    "    Función que verifica si un número es primo.\n",
    "\n",
    "    Args:\n",
    "        numero: Número a verificar.\n",
    "\n",
    "    Returns:\n",
    "        True si el número es primo, False si no lo es.\n",
    "    \"\"\"\n",
    "\n",
    "    return numero > 1 and not any(numero % i == 0 for i in range(2, numero))\n",
    "\n",
    "\n",
    "print(es_primo(13))"
   ]
  },
  {
   "cell_type": "markdown",
   "metadata": {},
   "source": [
    "<u><b>Problema 8:</u></b> <br>\n",
    "Escribe una función de Python para calcular el factorial de un número (un entero no negativo). La función acepta el número como argumento."
   ]
  },
  {
   "cell_type": "code",
   "execution_count": 37,
   "metadata": {},
   "outputs": [
    {
     "name": "stdout",
     "output_type": "stream",
     "text": [
      "720\n"
     ]
    }
   ],
   "source": [
    "def factorial(numero):\n",
    "    \"\"\"\n",
    "    Función que calcula el factorial de un número.\n",
    "\n",
    "    Args:\n",
    "        numero: Número a calcular el factorial.\n",
    "\n",
    "    Returns:\n",
    "        Factorial del número.\n",
    "    \"\"\"\n",
    "\n",
    "    if numero < 0:\n",
    "        raise ValueError(\"El número debe ser no negativo\")\n",
    "\n",
    "    if numero == 0:\n",
    "        return 1\n",
    "\n",
    "    return numero * factorial(numero - 1)\n",
    "\n",
    "\n",
    "print(factorial(6))"
   ]
  },
  {
   "cell_type": "markdown",
   "metadata": {},
   "source": [
    "<h1><u>Métodos de Cadenas:</u></h1>"
   ]
  },
  {
   "cell_type": "markdown",
   "metadata": {},
   "source": [
    "<u><b>Problema 9:</u></b> <br>\n",
    "Al enviar mensajes de texto o twittear, no es raro acortar las palabras para ahorrar tiempo o espacio, por ejemplo, omitiendo las vocales.\n",
    "Implemente un programa que solicite al usuario una cadena de texto y luego retorne ese mismo texto pero con todas las vocales (A, E, I, O y U) omitidas, ya sea que se ingresen en mayúsculas o minúsculas.\n",
    "Ejemplo:\n",
    "\n",
    "Input: Twitter\n",
    "Output: Twttr\n",
    "\n",
    "Input: What's your name?\n",
    "Output: Wht's yr nm?"
   ]
  },
  {
   "cell_type": "code",
   "execution_count": 39,
   "metadata": {},
   "outputs": [
    {
     "name": "stdout",
     "output_type": "stream",
     "text": [
      "Wht's yr nm? Twttr\n"
     ]
    }
   ],
   "source": [
    "def quitar_vocales(cadena):\n",
    "    \"\"\"\n",
    "    Función que quita todas las vocales de una cadena de texto.\n",
    "\n",
    "    Args:\n",
    "        cadena: Cadena de texto a la que se le quitarán las vocales.\n",
    "\n",
    "    Returns:\n",
    "        Cadena de texto con las vocales omitidas.\n",
    "    \"\"\"\n",
    "\n",
    "    vocales = \"aeiouAEIOU\"\n",
    "    nueva_cadena = \"\"\n",
    "    for caracter in cadena:\n",
    "        if caracter not in vocales:\n",
    "            nueva_cadena += caracter\n",
    "    return nueva_cadena\n",
    "\n",
    "\n",
    "cadena = input(\"Ingrese una cadena de texto: \")\n",
    "print(quitar_vocales(cadena))"
   ]
  },
  {
   "cell_type": "markdown",
   "metadata": {},
   "source": [
    "<u><b>Problema 10:</u></b> <br>\n",
    "En los Estados Unidos, las fechas suelen tener el siguiente formato: mes-día-año (MM/DD/AAAA). Las fechas en ese formato no se pueden ordenar fácilmente porque el año de la fecha es el último en lugar del primero. Intente ordenar, por ejemplo, 2/2/1800, 3/3/1900 y 1/1/2000 cronológicamente\n",
    "en cualquier programa (por ejemplo, una hoja de cálculo). Las fechas en ese formato también son ambiguas. ¡Una fecha como el 8 de septiembre de 1636, podría interpretarse como el 9 de agosto de 1636!\n",
    "\n",
    "Implementar un programa que pida al usuario una fecha, en orden mes-día-año, con formato como 8/9/1636 o Septiembre 8, 1636, donde el mes en este último podría ser cualquiera de los valores en la lista abajo:\n",
    "\n",
    "[\n",
    "\"Enero\",\n",
    "\"Febrero\",\n",
    "\"Marzo\",\n",
    "\"Abril\",\n",
    "\"Mayo\",\n",
    "\"Junio\",\n",
    "\"Julio\",\n",
    "\"Agosto\",\n",
    "\"Septiembre\",\n",
    "\"Octubre\",\n",
    "\"Noviembre\",\n",
    "\"Diciembre\"\n",
    "]\n",
    "\n",
    "Luego, genere esa misma fecha en formato AAAA-MM-DD.\n",
    "Ejemplos:\n",
    "- Input: 9/8/1636 | Output: 1636-09-08\n",
    "- Input: Septiembre 8, 1636 | Output: 1636-09-08\n",
    "- Input: 1/1/1970 | Output: 1970-01-01\n",
    "\n",
    "Nota:\n",
    "- Los métodos de listas y string le resultarán de gran utilidad.\n",
    "- Nota que si empleamos print(f\"{n:02}\") , esta completará con 0 valos a la izquierda de un\n",
    "número"
   ]
  },
  {
   "cell_type": "code",
   "execution_count": null,
   "metadata": {},
   "outputs": [],
   "source": [
    "def convertir_fecha(input_fecha):\n",
    "    meses = [\n",
    "        \"Enero\", \"Febrero\", \"Marzo\", \"Abril\", \"Mayo\", \"Junio\",\n",
    "        \"Julio\", \"Agosto\", \"Septiembre\", \"Octubre\", \"Noviembre\", \"Diciembre\"\n",
    "    ]\n",
    "\n",
    "    # Verificamos si el input contiene el formato mes-día-año\n",
    "    if '/' in input_fecha:\n",
    "        # Si es el formato mes-día-año\n",
    "        mes, dia, anio = map(int, input_fecha.split('/'))\n",
    "    else:\n",
    "        # Si es el formato \"Mes dia, año\"\n",
    "        mes_str, dia, anio = input_fecha.split()\n",
    "        mes = meses.index(mes_str) + 1\n",
    "\n",
    "    # Formateamos la fecha en el formato AAAA-MM-DD\n",
    "    fecha_formateada = f\"{anio:04d}-{mes:02d}-{dia:02d}\"\n",
    "    return fecha_formateada\n",
    "\n",
    "# Solicitamos al usuario ingresar la fecha\n",
    "input_fecha = input(\"Ingrese la fecha (mes-día-año o Mes dia, año): \")\n",
    "\n",
    "# Convertimos y mostramos la fecha en formato AAAA-MM-DD\n",
    "fecha_formateada = convertir_fecha(input_fecha)\n",
    "print(f\"Fecha formateada: {fecha_formateada}\")\n"
   ]
  }
 ],
 "metadata": {
  "kernelspec": {
   "display_name": "Python 3",
   "language": "python",
   "name": "python3"
  },
  "language_info": {
   "codemirror_mode": {
    "name": "ipython",
    "version": 3
   },
   "file_extension": ".py",
   "mimetype": "text/x-python",
   "name": "python",
   "nbconvert_exporter": "python",
   "pygments_lexer": "ipython3",
   "version": "3.10.8"
  }
 },
 "nbformat": 4,
 "nbformat_minor": 2
}
