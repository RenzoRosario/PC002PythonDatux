{
 "cells": [
  {
   "cell_type": "markdown",
   "metadata": {},
   "source": [
    "<h1><u>Estructuras Iterativas:</u></h1>"
   ]
  },
  {
   "cell_type": "markdown",
   "metadata": {},
   "source": [
    "<u><b>Problema 1:</u></b> <br>\n",
    "Escribe un programa en Python para encontrar los números que son divisibles por 7 y múltiplos de 5, en el rango de 1500 y 2700 (ambos incluidos).\n"
   ]
  },
  {
   "cell_type": "code",
   "execution_count": 7,
   "metadata": {},
   "outputs": [
    {
     "name": "stdout",
     "output_type": "stream",
     "text": [
      "1505\n",
      "1540\n",
      "1575\n",
      "1610\n",
      "1645\n",
      "1680\n",
      "1715\n",
      "1750\n",
      "1785\n",
      "1820\n",
      "1855\n",
      "1890\n",
      "1925\n",
      "1960\n",
      "1995\n",
      "2030\n",
      "2065\n",
      "2100\n",
      "2135\n",
      "2170\n",
      "2205\n",
      "2240\n",
      "2275\n",
      "2310\n",
      "2345\n",
      "2380\n",
      "2415\n",
      "2450\n",
      "2485\n",
      "2520\n",
      "2555\n",
      "2590\n",
      "2625\n",
      "2660\n",
      "2695\n"
     ]
    }
   ],
   "source": [
    "# Programa para encontrar los números divisibles por 7 y múltiplos de 5, en el rango de 1500 y 2700 (ambos incluidos)\n",
    "\n",
    "# Declaramos las variables\n",
    "inicio = 1500\n",
    "fin = 2700\n",
    "\n",
    "# Iteramos por todos los números del rango\n",
    "for numero in range(inicio, fin + 1):\n",
    "    # Comprobamos si el número es divisible por 7\n",
    "    if numero % 7 == 0:\n",
    "        # Comprobamos si el número es múltiplo de 5\n",
    "        if numero % 5 == 0:\n",
    "            # Imprimimos el número\n",
    "            print(numero)"
   ]
  },
  {
   "cell_type": "markdown",
   "metadata": {},
   "source": [
    "<u><b>Problema 2:</u></b> <br>\n",
    "Escriba un programa en Python para construir el siguiente patrón.\n",
    "<br>*\n",
    "<br>* *\n",
    "<br>* * *\n",
    "<br>* * * *\n",
    "<br>* * * * *\n",
    "<br>* * * *\n",
    "<br>* * *\n",
    "<br>* *\n",
    "<br>*"
   ]
  },
  {
   "cell_type": "code",
   "execution_count": 25,
   "metadata": {},
   "outputs": [
    {
     "name": "stdout",
     "output_type": "stream",
     "text": [
      "* \n",
      "* * \n",
      "* * * \n",
      "* * * * \n",
      "* * * * * \n",
      "* * * * \n",
      "* * * \n",
      "* * \n",
      "* \n"
     ]
    }
   ],
   "source": [
    "#Crear un patrón de Asteriscos usando un ciclo for anidado\n",
    "\n",
    "# Declaramos las variables\n",
    "n = 5\n",
    "\n",
    "# Iteramos por las filas en incremento\n",
    "for i in range(1,n + 1):\n",
    "    for j in range(i):\n",
    "        print('* ', end='')\n",
    "    print( )\n",
    "\n",
    "# Iteramos por las filas en decremento\n",
    "for i in range(n-1, 0, -1):\n",
    "    for j in range(i):\n",
    "        print('* ', end='')\n",
    "    print( )"
   ]
  },
  {
   "cell_type": "markdown",
   "metadata": {},
   "source": [
    "<u><b>Problema 3:</u></b> <br>\n",
    "Por medio de un bucle While genere un código que permita el ingreso de números por teclado. El\n",
    "ingreso de los números debe ser permitido hasta que el usuario decida ya no ingresar nuevos números.\n",
    "Con dichos números, su programa debe evaluar cada uno de estos números e indicar la cantidad de\n",
    "números pares e impares.\n",
    "Ejemplo:<br>\n",
    "“Desea ingresar un número?”: SI<br>\n",
    "“Ingrese el número:” 5<br>\n",
    "“¿Desea ingresar un número?”: SI\n",
    "“Ingrese el número: ” 7<br>\n",
    "……<br>\n",
    "“Desea ingresar un número?”: NO<br>\n",
    "Números ingresados: [ 5,7, 6, 7, 8, 9, 1, 2, 3, 4]<br>\n",
    "Cantidad de números pares: 5<br>\n",
    "Cantidad de números impares: 4<br>\n",
    "Nota:<br>\n",
    "- Quizás a manera de ayuda el uso de una lista le sea de utilidad.\n",
    "- El empleo de break sobre condiciones while también le serán de utilidad."
   ]
  },
  {
   "cell_type": "code",
   "execution_count": 24,
   "metadata": {},
   "outputs": [
    {
     "name": "stdout",
     "output_type": "stream",
     "text": [
      "Números ingresados: [4, 111, 9, 142]\n",
      "Cantidad de números pares: 2\n",
      "Cantidad de números impares: 2\n"
     ]
    }
   ],
   "source": [
    "# Programa para contar números pares e impares\n",
    "\n",
    "# Declaramos las variables\n",
    "numeros_pares = 0\n",
    "numeros_impares = 0\n",
    "numeros_ingresados = []\n",
    "\n",
    "# Bucle principal\n",
    "while True:\n",
    "    # Solicitamos al usuario si desea ingresar un número\n",
    "    desea_ingresar = input(\"¿Desea ingresar un número? (SI/NO): \")\n",
    "\n",
    "    # Si el usuario responde NO, finalizamos el bucle\n",
    "    if desea_ingresar.upper() == \"NO\":\n",
    "        break\n",
    "\n",
    "    # Solicitamos el número al usuario\n",
    "    numero = int(input(\"Ingrese el número: \"))\n",
    "\n",
    "    # Agregamos el número a la lista de números ingresados\n",
    "    numeros_ingresados.append(numero)\n",
    "\n",
    "    # Si el número es par, incrementamos el contador de números pares\n",
    "    if numero % 2 == 0:\n",
    "        numeros_pares += 1\n",
    "\n",
    "    # Si el número es impar, incrementamos el contador de números impares\n",
    "    else:\n",
    "        numeros_impares += 1\n",
    "\n",
    "# Imprimimos los resultados\n",
    "print(\"Números ingresados:\", numeros_ingresados)\n",
    "print(\"Cantidad de números pares:\", numeros_pares)\n",
    "print(\"Cantidad de números impares:\", numeros_impares)"
   ]
  },
  {
   "cell_type": "markdown",
   "metadata": {},
   "source": [
    "<u><b>Problema 4:</u></b> <br>\n",
    "Imaginemos que lo han contratado para un colegio donde se desea realizar un sistema por el cual se pueda generar un listado de “n” alumnos y 3 calificaciones que corresponden a alguna de sus materias.\n",
    "Puede usar el siguiente esquema a manera de ejemplo <br>\n",
    "{<br>\n",
    "Alumno: Juan,<br>\n",
    "Notas: [10, 12, 15]<br>\n",
    "}<br>\n",
    "Una vez completado el ingreso de los datos, su programa debe mostrar en pantalla el listado completo de los alumnos.<br>\n",
    "Nota:<br>\n",
    "- El uso de listas con diccionarios le será de utilidad.<br>"
   ]
  },
  {
   "cell_type": "code",
   "execution_count": null,
   "metadata": {},
   "outputs": [],
   "source": [
    "# Programa para generar un listado de alumnos y sus calificaciones\n",
    "\n",
    "# Declaramos las variables\n",
    "alumnos = []\n",
    "\n",
    "# Bucle principal\n",
    "while True:\n",
    "    # Solicitamos al usuario el nombre del alumno\n",
    "    nombre_alumno = input(\"Ingrese el nombre del alumno: \")\n",
    "\n",
    "    # Si el usuario ingresa la cadena vacía, finalizamos el bucle\n",
    "    if nombre_alumno == \"\":\n",
    "        break\n",
    "\n",
    "    # Solicitamos al usuario las calificaciones del alumno\n",
    "    calificaciones = []\n",
    "    for i in range(3):\n",
    "        calificacion = int(input(\"Ingrese la calificación \" + str(i + 1) + \": \"))\n",
    "        calificaciones.append(calificacion)\n",
    "\n",
    "    # Creamos un diccionario con los datos del alumno\n",
    "    alumno = {\"Alumno\": nombre_alumno, \"Notas\": calificaciones}\n",
    "\n",
    "    # Agregamos el diccionario a la lista de alumnos\n",
    "    alumnos.append(alumno)\n",
    "\n",
    "# Imprimimos el listado de alumnos\n",
    "for alumno in alumnos:\n",
    "    print(\"Alumno:\", alumno[\"Alumno\"], \"Notas:\", alumno[\"Notas\"])\n",
    "\n",
    "# Calculamos el promedio de cada alumno\n",
    "for alumno in alumnos:\n",
    "    promedio = sum(alumno[\"Notas\"]) / len(alumno[\"Notas\"])\n",
    "    alumno[\"Promedio\"] = promedio\n",
    "\n",
    "# Imprimimos el listado de alumnos con el promedio\n",
    "for alumno in alumnos:\n",
    "    print(\"Alumno:\", alumno[\"Alumno\"], \"Notas:\", alumno[\"Notas\"], \"Promedio:\", alumno[\"Promedio\"])\n"
   ]
  },
  {
   "cell_type": "markdown",
   "metadata": {},
   "source": [
    "<h1><u>Funciones:</u></h1>"
   ]
  },
  {
   "cell_type": "markdown",
   "metadata": {},
   "source": [
    "<u><b>Problema 5:</u></b> <br>\n",
    "Genere una función que tenga como parámetros el ingreso de un número entero y un dígito.<br>\n",
    "Verifique la cantidad de veces que se usa dicho número en el dígito solicitado.<br>\n",
    "\n",
    "<b>Ejemplo:<br></b>\n",
    "\n",
    "Número ingresado: 15789000 y Dígito: 0<br>\n",
    "Cantidad de veces 0 en el número: 4<br>\n",
    "\n",
    "Nota: Para resolver este problema, algunos tipos de datos dentro de python contemplan un método count.<br>"
   ]
  },
  {
   "cell_type": "code",
   "execution_count": null,
   "metadata": {},
   "outputs": [],
   "source": [
    "def cantidad_de_digitos(numero, digito):\n",
    "    \"\"\"\n",
    "    Función que cuenta la cantidad de veces que aparece un dígito en un número entero.\n",
    "\n",
    "    Args:\n",
    "        numero: Número entero en el que se buscará el dígito.\n",
    "        digito: Dígito a buscar en el número.\n",
    "\n",
    "    Returns:\n",
    "        Cantidad de veces que aparece el dígito en el número.\n",
    "    \"\"\"\n",
    "\n",
    "    return numero.count(digito)\n",
    "\n",
    "\n",
    "print(cantidad_de_digitos(15789000, 0))"
   ]
  },
  {
   "cell_type": "markdown",
   "metadata": {},
   "source": [
    "<u><b>Problema 6:</u></b> <br>\n",
    "Escriba un programa en Python para obtener la serie de Fibonacci entre 0 y 50.<br>\n",
    "Nota: La secuencia de Fibonacci es la serie de números:<br>\n",
    "0, 1, 1, 2, 3, 5, 8, 13, 21,. ...<br>\n",
    "Cada número siguiente se obtiene sumando los dos números anteriores.<br>"
   ]
  },
  {
   "cell_type": "code",
   "execution_count": 2,
   "metadata": {},
   "outputs": [
    {
     "name": "stdout",
     "output_type": "stream",
     "text": [
      "[1, 1, 2, 3, 5, 8, 13, 21, 34]\n"
     ]
    }
   ],
   "source": [
    "def fibonacci_hasta_limite(limite):\n",
    "    \"\"\"\n",
    "    Función que devuelve la serie de Fibonacci hasta el número que sumando el anterior sea menor o igual a limite.\n",
    "\n",
    "    Args:\n",
    "        limite: Número límite hasta el que se quiere obtener la serie de Fibonacci.\n",
    "\n",
    "    Returns:\n",
    "        Lista con los números de la serie de Fibonacci hasta el número limite.\n",
    "    \"\"\"\n",
    "\n",
    "    a, b = 0, 1\n",
    "    lista = []\n",
    "    while b <= limite:\n",
    "        lista.append(b)\n",
    "        a, b = b, a + b\n",
    "    return lista\n",
    "\n",
    "\n",
    "print(fibonacci_hasta_limite(50))"
   ]
  }
 ],
 "metadata": {
  "kernelspec": {
   "display_name": "Python 3",
   "language": "python",
   "name": "python3"
  },
  "language_info": {
   "codemirror_mode": {
    "name": "ipython",
    "version": 3
   },
   "file_extension": ".py",
   "mimetype": "text/x-python",
   "name": "python",
   "nbconvert_exporter": "python",
   "pygments_lexer": "ipython3",
   "version": "3.10.8"
  }
 },
 "nbformat": 4,
 "nbformat_minor": 2
}
